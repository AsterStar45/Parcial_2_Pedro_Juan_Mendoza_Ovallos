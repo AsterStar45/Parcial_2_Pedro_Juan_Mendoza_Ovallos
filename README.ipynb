{
 "cells": [
  {
   "cell_type": "markdown",
   "id": "d766a780",
   "metadata": {},
   "source": [
    "\n",
    "# Calculadora - Proyecto con HTML/CSS/JavaScript y Python\n",
    "\n",
    "![HTML](https://img.shields.io/badge/HTML-5-orange)\n",
    "![CSS](https://img.shields.io/badge/CSS-3-blue)\n",
    "![JavaScript](https://img.shields.io/badge/JavaScript-ES6-yellow)\n",
    "![Python](https://img.shields.io/badge/Python-3.8-blue)\n",
    "\n",
    "---\n",
    "\n",
    "## Índice\n",
    "\n",
    "1. [Descripción](#descripción)\n",
    "2. [Instalación](#instalación)\n",
    "3. [Uso](#uso)\n",
    "4. [Estructura del código](#estructura-del-código)\n",
    "5. [Requisitos](#requisitos)\n",
    "6. [Licencia](#licencia)\n",
    "7. [Autor](#autor)\n",
    "\n",
    "---\n",
    "\n",
    "## Descripción\n",
    "\n",
    "Este proyecto contiene dos implementaciones de una **calculadora básica**. La primera está realizada con **HTML**, **CSS** y **JavaScript** para operar en navegadores web, mientras que la segunda está desarrollada con **Python** y **Tkinter** para ser ejecutada en aplicaciones de escritorio.\n",
    "\n",
    "- La calculadora en el navegador permite sumar, restar, multiplicar, dividir, obtener el módulo y calcular potencias entre dos números.\n",
    "- La calculadora de escritorio (Python) ofrece las mismas operaciones, con un manejo adicional de errores, como división por cero o la elevación de números a la potencia de cero.\n"
   ]
  },
  {
   "cell_type": "markdown",
   "id": "ad946644",
   "metadata": {},
   "source": [
    "\n",
    "---\n",
    "\n",
    "## Instalación\n",
    "\n",
    "1. Clona el repositorio en tu máquina local:\n",
    "    ```bash\n",
    "    git clone https://github.com/tuusuario/tu-repo.git\n",
    "    ```\n",
    "2. Navega a la carpeta del proyecto:\n",
    "    ```bash\n",
    "    cd tu-repo\n",
    "    ```\n",
    "\n",
    "3. Para la versión **HTML/CSS/JS**:\n",
    "    - Abre la carpeta `html_calculator`.\n",
    "    - Abre el archivo `index.html` en tu navegador preferido.\n",
    "\n",
    "4. Para la versión **Python**:\n",
    "    - Abre la carpeta `python_calculator`.\n",
    "    - Ejecuta el archivo `calculadora.py` utilizando Python 3:\n",
    "    ```bash\n",
    "    python calculadora.py\n",
    "    ```\n"
   ]
  },
  {
   "cell_type": "markdown",
   "id": "10300f4b",
   "metadata": {},
   "source": [
    "\n",
    "---\n",
    "\n",
    "## Uso\n",
    "\n",
    "### Calculadora Web (HTML/CSS/JS)\n",
    "1. Abre el archivo `index.html` en un navegador web.\n",
    "2. Introduce los dos números en los campos correspondientes.\n",
    "3. Selecciona la operación (Suma, Resta, Multiplicación, División, Módulo o Potencia).\n",
    "4. El resultado se mostrará en pantalla.\n",
    "\n",
    "### Calculadora de Escritorio (Python/Tkinter)\n",
    "1. Ejecuta el script `calculadora.py` desde la línea de comandos o mediante un IDE.\n",
    "2. Introduce los dos números en los campos de texto.\n",
    "3. Haz clic en uno de los botones para realizar la operación (Sumar, Restar, Multiplicar, Dividir, Potencia).\n",
    "4. El resultado aparecerá en la interfaz gráfica.\n"
   ]
  },
  {
   "cell_type": "markdown",
   "id": "bb966ef8",
   "metadata": {},
   "source": [
    "\n",
    "---\n",
    "\n",
    "## Estructura del código\n",
    "\n",
    "El proyecto está dividido en dos carpetas principales, cada una con su respectiva implementación de la calculadora:\n",
    "\n",
    "1. **Carpeta HTML/CSS/JavaScript**:\n",
    "   - `index.html`: Contiene la estructura HTML de la calculadora.\n",
    "   - `styles.css`: Aplica los estilos a la página.\n",
    "   - `script.js`: Implementa la lógica de las operaciones matemáticas.\n",
    "\n",
    "2. **Carpeta Python/Tkinter**:\n",
    "   - `calculadora.py`: Implementa la calculadora de escritorio utilizando Python y la librería Tkinter.\n"
   ]
  },
  {
   "cell_type": "markdown",
   "id": "51bf2600",
   "metadata": {},
   "source": [
    "\n",
    "---\n",
    "\n",
    "## Requisitos\n",
    "\n",
    "- **Para la versión HTML/CSS/JS**:\n",
    "  - Un navegador web moderno (Chrome, Firefox, Edge, etc.).\n",
    "\n",
    "- **Para la versión Python/Tkinter**:\n",
    "  - Python 3.8 o superior instalado.\n"
   ]
  },
  {
   "cell_type": "markdown",
   "id": "3254ef49",
   "metadata": {},
   "source": [
    "\n",
    "---\n",
    "\n",
    "## Licencia\n",
    "\n",
    "Este proyecto está licenciado bajo la MIT License.\n"
   ]
  },
  {
   "cell_type": "markdown",
   "id": "9e09b52a",
   "metadata": {},
   "source": [
    "\n",
    "---\n",
    "\n",
    "## Autor\n",
    "\n",
    "Pedro Juan Mendoza Ovallos\n"
   ]
  }
 ],
 "metadata": {},
 "nbformat": 4,
 "nbformat_minor": 5
}
